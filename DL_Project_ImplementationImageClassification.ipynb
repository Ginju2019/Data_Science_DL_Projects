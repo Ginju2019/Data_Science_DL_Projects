{
 "cells": [
  {
   "cell_type": "markdown",
   "metadata": {},
   "source": [
    "# Project submission: DEEP LEARNING_Implementation Image Classification\n",
    "# Student: Ginju Soumya"
   ]
  },
  {
   "cell_type": "code",
   "execution_count": 1,
   "metadata": {},
   "outputs": [],
   "source": [
    "from urllib.request import urlretrieve\n",
    "from os.path import isfile, isdir\n",
    "from tqdm import tqdm\n",
    "import tarfile"
   ]
  },
  {
   "cell_type": "code",
   "execution_count": 2,
   "metadata": {},
   "outputs": [
    {
     "name": "stderr",
     "output_type": "stream",
     "text": [
      "CIFAR-10 Dataset: 171MB [11:47, 241kB/s]                                \n"
     ]
    }
   ],
   "source": [
    "cifar10_dataset_folder_path = 'cifar-10-batches-py'\n",
    "\n",
    "class DLProgress(tqdm):\n",
    "    last_block = 0\n",
    "\n",
    "    def hook(self, block_num=1, block_size=1, total_size=None):\n",
    "        self.total = total_size\n",
    "        self.update((block_num - self.last_block) * block_size)\n",
    "        self.last_block = block_num\n",
    "\n",
    "if not isfile('cifar-10-python.tar.gz'):\n",
    "    with DLProgress(unit='B', unit_scale=True, miniters=1, desc='CIFAR-10 Dataset') as pbar:\n",
    "        urlretrieve(\n",
    "            'https://www.cs.toronto.edu/~kriz/cifar-10-python.tar.gz',\n",
    "            'cifar-10-python.tar.gz',\n",
    "            pbar.hook)\n",
    "\n",
    "if not isdir(cifar10_dataset_folder_path):\n",
    "    with tarfile.open('cifar-10-python.tar.gz') as tar:\n",
    "        tar.extractall()\n",
    "        tar.close()"
   ]
  },
  {
   "cell_type": "code",
   "execution_count": 3,
   "metadata": {},
   "outputs": [],
   "source": [
    "import pickle\n",
    "import numpy as np\n",
    "import matplotlib.pyplot as plt\n",
    "from sklearn.preprocessing import LabelBinarizer"
   ]
  },
  {
   "cell_type": "code",
   "execution_count": 4,
   "metadata": {},
   "outputs": [],
   "source": [
    "def _load_label_names():\n",
    "    \"\"\"\n",
    "    Load the label names from file\n",
    "    \"\"\"\n",
    "    return ['airplane', 'automobile', 'bird', 'cat', 'deer', 'dog', 'frog', 'horse', 'ship', 'truck']\n",
    "def load_cfar10_batch(cifar10_dataset_folder_path, batch_id):\n",
    "    \"\"\"\n",
    "    Load a batch of the dataset\n",
    "    \"\"\"\n",
    "    with open(cifar10_dataset_folder_path + '/data_batch_' + str(batch_id), mode='rb') as file:\n",
    "        batch = pickle.load(file, encoding='latin1')\n",
    "    features = batch['data'].reshape((len(batch['data']), 3, 32, 32)).transpose(0, 2, 3, 1)\n",
    "    labels = batch['labels']\n",
    "    return features, labels"
   ]
  },
  {
   "cell_type": "code",
   "execution_count": 5,
   "metadata": {},
   "outputs": [],
   "source": [
    "def display_stats(cifar10_dataset_folder_path, batch_id, sample_id):\n",
    "    \"\"\"\n",
    "    Display Stats of the the dataset\n",
    "    \"\"\"\n",
    "    batch_ids = list(range(1, 6))\n",
    "\n",
    "    if batch_id not in batch_ids:\n",
    "        print('Batch Id out of Range. Possible Batch Ids: {}'.format(batch_ids))\n",
    "        return None\n",
    "    features, labels = load_cfar10_batch(cifar10_dataset_folder_path, batch_id)\n",
    "    if not (0 <= sample_id < len(features)):\n",
    "        print('{} samples in batch {}. {} is out of range.'.format(len(features), batch_id, sample_id))\n",
    "        return None\n",
    "    print('\\nStats of batch {}:'.format(batch_id))\n",
    "    print('Samples: {}'.format(len(features)))\n",
    "    print('Label Counts: {}'.format(dict(zip(*np.unique(labels, return_counts=True)))))\n",
    "    print('First 20 Labels: {}'.format(labels[:20]))\n",
    "\n",
    "    sample_image = features[sample_id]\n",
    "    sample_label = labels[sample_id]\n",
    "    label_names = _load_label_names()\n",
    "\n",
    "    print('\\nExample of Image {}:'.format(sample_id))\n",
    "    print('Image - Min Value: {} Max Value: {}'.format(sample_image.min(), sample_image.max()))\n",
    "    print('Image - Shape: {}'.format(sample_image.shape))\n",
    "    print('Label - Label Id: {} Name: {}'.format(sample_label, label_names[sample_label]))\n",
    "    plt.axis('off')\n",
    "    plt.imshow(sample_image)"
   ]
  },
  {
   "cell_type": "code",
   "execution_count": 6,
   "metadata": {},
   "outputs": [],
   "source": [
    "def _preprocess_and_save(normalize, one_hot_encode, features, labels, filename):\n",
    "    \"\"\"\n",
    "    Preprocess data and save it to file\n",
    "    \"\"\"\n",
    "    features = normalize(features)\n",
    "    labels = one_hot_encode(labels)\n",
    "    pickle.dump((features, labels), open(filename, 'wb'))"
   ]
  },
  {
   "cell_type": "code",
   "execution_count": 7,
   "metadata": {},
   "outputs": [],
   "source": [
    "def preprocess_and_save_data(cifar10_dataset_folder_path, normalize, one_hot_encode):\n",
    "    \"\"\"\n",
    "    Preprocess Training and Validation Data\n",
    "    \"\"\"\n",
    "    n_batches = 5\n",
    "    valid_features = []\n",
    "    valid_labels = []\n",
    "    for batch_i in range(1, n_batches + 1):\n",
    "        features, labels = load_cfar10_batch(cifar10_dataset_folder_path, batch_i)\n",
    "        validation_count = int(len(features) * 0.1)\n",
    "    # Prprocess and save a batch of trainingdata \n",
    "        _preprocess_and_save(\n",
    "        normalize,\n",
    "        one_hot_encode, features[:-\n",
    "        validation_count], labels[:-\n",
    "        validation_count], 'preprocess_batch_'\n",
    "        + str(batch_i) + '.p')\n",
    "    # Use a portion of training batch for validation\n",
    "    valid_features.extend(features[-validation_count:])\n",
    "    valid_labels.extend(labels[-validation_count:])\n",
    "\n",
    "# Preprocess and Save all validation data\n",
    "    _preprocess_and_save(\n",
    "        normalize,\n",
    "        one_hot_encode,\n",
    "        np.array(valid_features),\n",
    "        np.array(valid_labels),\n",
    "        'preprocess_validation.p')\n",
    "\n",
    "    with open(cifar10_dataset_folder_path + '/test_batch', mode='rb') as file:\n",
    "        batch = pickle.load(file, encoding='latin1')\n",
    "    # load the training data\n",
    "    test_features = batch['data'].reshape((len(batch['data']), 3, 32, 32)).transpose(0, 2, 3, 1)\n",
    "    test_labels = batch['labels']\n",
    "    \n",
    "    # Preprocess and Save all training data \n",
    "    _preprocess_and_save(\n",
    "        normalize,\n",
    "        one_hot_encode,\n",
    "        np.array(test_features),\n",
    "        np.array(test_labels),\n",
    "        'preprocess_training.p')"
   ]
  },
  {
   "cell_type": "code",
   "execution_count": 8,
   "metadata": {},
   "outputs": [],
   "source": [
    "def batch_features_labels(features, labels, batch_size):\n",
    "    \"\"\"\n",
    "    Split features and labels into batches\n",
    "    \"\"\"\n",
    "    for start in range(0, len(features), batch_size):\n",
    "        end = min(start + batch_size, len(features))\n",
    "        yield features[start:end], labels[start:end]"
   ]
  },
  {
   "cell_type": "code",
   "execution_count": 9,
   "metadata": {},
   "outputs": [],
   "source": [
    "def load_preprocess_training_batch(batch_id, batch_size):\n",
    "    \"\"\"\n",
    "    Load the Preprocessed Training data and return them in batches of <batch_size> or less\n",
    "    \"\"\"\n",
    "    filename = 'preprocess_batch_' + str(batch_id) + '.p'\n",
    "    features, labels = pickle.load(open(filename, mode='rb'))\n",
    "    \n",
    "    # Return the training data in batches of size <batch_size> or less\n",
    "    return batch_features_labels(features, labels, batch_size)"
   ]
  },
  {
   "cell_type": "code",
   "execution_count": 10,
   "metadata": {},
   "outputs": [],
   "source": [
    "def display_image_predictions(features, labels, predictions):\n",
    "    n_classes = 10\n",
    "    label_names = _load_label_names()\n",
    "    label_binarizer = LabelBinarizer()\n",
    "    label_binarizer.fit(range(n_classes))\n",
    "    label_ids = label_binarizer.inverse_transform(np.array(labels))\n",
    "    \n",
    "    fig, axies = plt.subplots(nrows=4, ncols=2)\n",
    "    fig.tight_layout()\n",
    "    fig.suptitle('Softmax Predictions', fontsize=20, y=1.1)\n",
    "    \n",
    "    n_predictions = 3\n",
    "    margin = 0.05\n",
    "    ind = np.arange(n_predictions)\n",
    "    width = (1. - 2. * margin) / n_predictions\n",
    "    \n",
    "    for image_i, (feature, label_id, pred_indicies, pred_values) in enumerate(zip(features, label_ids, predictions.indices, predictions.values)):\n",
    "        pred_names = [label_names[pred_i] for pred_i in pred_indicies] \n",
    "        correct_name = label_names[label_id]\n",
    "    \n",
    "        axies[image_i][0].imshow(feature*255)\n",
    "        axies[image_i][0].set_title(correct_name)\n",
    "        axies[image_i][0].set_axis_off()\n",
    "        \n",
    "        axies[image_i][1].barh(ind + margin, pred_values[::-1], width)\n",
    "        axies[image_i][1].set_yticks(ind + margin)\n",
    "        axies[image_i][1].set_yticklabels(pred_names[::-1])\n",
    "        axies[image_i][1].set_xticks([0, 0.5, 1.0])"
   ]
  },
  {
   "cell_type": "code",
   "execution_count": 11,
   "metadata": {},
   "outputs": [],
   "source": [
    "%matplotlib inline\n",
    "%config InlineBackend.figure_format = 'retina'\n",
    "import numpy as np"
   ]
  },
  {
   "cell_type": "code",
   "execution_count": 12,
   "metadata": {},
   "outputs": [
    {
     "name": "stdout",
     "output_type": "stream",
     "text": [
      "\n",
      "Stats of batch 3:\n",
      "Samples: 10000\n",
      "Label Counts: {0: 994, 1: 1042, 2: 965, 3: 997, 4: 990, 5: 1029, 6: 978, 7: 1015, 8: 961, 9: 1029}\n",
      "First 20 Labels: [8, 5, 0, 6, 9, 2, 8, 3, 6, 2, 7, 4, 6, 9, 0, 0, 7, 3, 7, 2]\n",
      "\n",
      "Example of Image 5:\n",
      "Image - Min Value: 9 Max Value: 255\n",
      "Image - Shape: (32, 32, 3)\n",
      "Label - Label Id: 2 Name: bird\n"
     ]
    },
    {
     "data": {
      "image/png": "[encoded data removed]",
      "text/plain": [
       "<Figure size 432x288 with 1 Axes>"
      ]
     },
     "metadata": {
      "image/png": {
       "height": 231,
       "width": 231
      },
      "needs_background": "light"
     },
     "output_type": "display_data"
    }
   ],
   "source": [
    "# Explore the dataset \n",
    "batch_id = 3\n",
    "sample_id = 5\n",
    "display_stats(cifar10_dataset_folder_path, batch_id, sample_id)"
   ]
  },
  {
   "cell_type": "code",
   "execution_count": 13,
   "metadata": {},
   "outputs": [],
   "source": [
    "#data load & normalisation"
   ]
  },
  {
   "cell_type": "code",
   "execution_count": 14,
   "metadata": {},
   "outputs": [],
   "source": [
    "# Put file path as a string here\n",
    "CIFAR_DIR = 'cifar-10-batches-py/'"
   ]
  },
  {
   "cell_type": "code",
   "execution_count": 15,
   "metadata": {},
   "outputs": [],
   "source": [
    "def unpickle(file):\n",
    "    import pickle\n",
    "    with open(file, 'rb') as fo:\n",
    "        cifar_dict = pickle.load(fo, encoding='bytes')\n",
    "    return cifar_dict"
   ]
  },
  {
   "cell_type": "code",
   "execution_count": 16,
   "metadata": {},
   "outputs": [],
   "source": [
    "dirs = ['batches.meta','data_batch_1','data_batch_2','data_batch_3','data_batch_4','data_batch_5','test_batch']"
   ]
  },
  {
   "cell_type": "code",
   "execution_count": 17,
   "metadata": {},
   "outputs": [],
   "source": [
    "all_data = [0,1,2,3,4,5,6]"
   ]
  },
  {
   "cell_type": "code",
   "execution_count": 18,
   "metadata": {},
   "outputs": [],
   "source": [
    "for i,direc in zip(all_data,dirs):\n",
    "    all_data[i] = unpickle(CIFAR_DIR+direc)"
   ]
  },
  {
   "cell_type": "code",
   "execution_count": 19,
   "metadata": {},
   "outputs": [],
   "source": [
    "batch_meta = all_data[0]\n",
    "data_batch1 = all_data[1]\n",
    "data_batch2 = all_data[2]\n",
    "data_batch3 = all_data[3]\n",
    "data_batch4 = all_data[4]\n",
    "data_batch5 = all_data[5]\n",
    "test_batch = all_data[6]"
   ]
  },
  {
   "cell_type": "code",
   "execution_count": 20,
   "metadata": {},
   "outputs": [
    {
     "data": {
      "text/plain": [
       "{b'num_cases_per_batch': 10000,\n",
       " b'label_names': [b'airplane',\n",
       "  b'automobile',\n",
       "  b'bird',\n",
       "  b'cat',\n",
       "  b'deer',\n",
       "  b'dog',\n",
       "  b'frog',\n",
       "  b'horse',\n",
       "  b'ship',\n",
       "  b'truck'],\n",
       " b'num_vis': 3072}"
      ]
     },
     "execution_count": 20,
     "metadata": {},
     "output_type": "execute_result"
    }
   ],
   "source": [
    "batch_meta #batch_meta[b\"label_names\"]"
   ]
  },
  {
   "cell_type": "code",
   "execution_count": 21,
   "metadata": {},
   "outputs": [
    {
     "data": {
      "text/plain": [
       "dict_keys([b'batch_label', b'labels', b'data', b'filenames'])"
      ]
     },
     "execution_count": 21,
     "metadata": {},
     "output_type": "execute_result"
    }
   ],
   "source": [
    "data_batch1.keys()"
   ]
  },
  {
   "cell_type": "code",
   "execution_count": 22,
   "metadata": {},
   "outputs": [],
   "source": [
    "import matplotlib.pyplot as plt\n",
    "%matplotlib inline\n",
    "\n",
    "import numpy as np"
   ]
  },
  {
   "cell_type": "code",
   "execution_count": 23,
   "metadata": {},
   "outputs": [],
   "source": [
    "X = data_batch1[b\"data\"]"
   ]
  },
  {
   "cell_type": "code",
   "execution_count": 24,
   "metadata": {},
   "outputs": [],
   "source": [
    "#Append X data\n",
    "X = np.append(X,data_batch2[b\"data\"],axis=0)\n",
    "X = np.append(X,data_batch3[b\"data\"],axis=0)\n",
    "X = np.append(X,data_batch4[b\"data\"],axis=0)\n",
    "X = np.append(X,data_batch5[b\"data\"],axis=0)"
   ]
  },
  {
   "cell_type": "code",
   "execution_count": 25,
   "metadata": {},
   "outputs": [
    {
     "data": {
      "text/plain": [
       "(50000, 3072)"
      ]
     },
     "execution_count": 25,
     "metadata": {},
     "output_type": "execute_result"
    }
   ],
   "source": [
    "X.shape"
   ]
  },
  {
   "cell_type": "code",
   "execution_count": 26,
   "metadata": {},
   "outputs": [],
   "source": [
    "X_train = X.reshape(50000, 3, 32, 32).transpose(0,2,3,1).astype(\"uint8\")"
   ]
  },
  {
   "cell_type": "code",
   "execution_count": 27,
   "metadata": {},
   "outputs": [
    {
     "data": {
      "text/plain": [
       "255"
      ]
     },
     "execution_count": 27,
     "metadata": {},
     "output_type": "execute_result"
    }
   ],
   "source": [
    "X_train.max()"
   ]
  },
  {
   "cell_type": "code",
   "execution_count": 28,
   "metadata": {},
   "outputs": [],
   "source": [
    "#Normalize it for color\n",
    "X_train=(X_train/255)"
   ]
  },
  {
   "cell_type": "code",
   "execution_count": 29,
   "metadata": {},
   "outputs": [],
   "source": [
    "X_test = test_batch[b\"data\"]"
   ]
  },
  {
   "cell_type": "code",
   "execution_count": 30,
   "metadata": {},
   "outputs": [
    {
     "data": {
      "text/plain": [
       "(10000, 3072)"
      ]
     },
     "execution_count": 30,
     "metadata": {},
     "output_type": "execute_result"
    }
   ],
   "source": [
    "X_test.shape"
   ]
  },
  {
   "cell_type": "code",
   "execution_count": 31,
   "metadata": {},
   "outputs": [],
   "source": [
    "X_test = X_test.reshape(10000, 3, 32, 32).transpose(0,2,3,1).astype(\"uint8\")"
   ]
  },
  {
   "cell_type": "code",
   "execution_count": 32,
   "metadata": {},
   "outputs": [
    {
     "data": {
      "text/plain": [
       "255"
      ]
     },
     "execution_count": 32,
     "metadata": {},
     "output_type": "execute_result"
    }
   ],
   "source": [
    "X_test.max()"
   ]
  },
  {
   "cell_type": "code",
   "execution_count": 33,
   "metadata": {},
   "outputs": [],
   "source": [
    "X_test=(X_test/255)"
   ]
  },
  {
   "cell_type": "code",
   "execution_count": 34,
   "metadata": {},
   "outputs": [],
   "source": [
    "y = data_batch1[b\"labels\"]"
   ]
  },
  {
   "cell_type": "code",
   "execution_count": 35,
   "metadata": {},
   "outputs": [],
   "source": [
    "#Append y values\n",
    "y = np.append(y,data_batch2[b\"labels\"],axis=0)\n",
    "y = np.append(y,data_batch3[b\"labels\"],axis=0)\n",
    "y = np.append(y,data_batch4[b\"labels\"],axis=0)\n",
    "y = np.append(y,data_batch5[b\"labels\"],axis=0)"
   ]
  },
  {
   "cell_type": "code",
   "execution_count": 36,
   "metadata": {},
   "outputs": [
    {
     "data": {
      "text/plain": [
       "(50000,)"
      ]
     },
     "execution_count": 36,
     "metadata": {},
     "output_type": "execute_result"
    }
   ],
   "source": [
    "y.shape"
   ]
  },
  {
   "cell_type": "code",
   "execution_count": 37,
   "metadata": {},
   "outputs": [
    {
     "data": {
      "text/plain": [
       "array([6, 9, 9])"
      ]
     },
     "execution_count": 37,
     "metadata": {},
     "output_type": "execute_result"
    }
   ],
   "source": [
    "y[:3]"
   ]
  },
  {
   "cell_type": "code",
   "execution_count": 38,
   "metadata": {},
   "outputs": [
    {
     "data": {
      "text/plain": [
       "<matplotlib.image.AxesImage at 0x1d45d022f88>"
      ]
     },
     "execution_count": 38,
     "metadata": {},
     "output_type": "execute_result"
    },
    {
     "data": {
      "image/png": "[encoded data removed]",
      "text/plain": [
       "<Figure size 432x288 with 1 Axes>"
      ]
     },
     "metadata": {
      "image/png": {
       "height": 248,
       "width": 251
      },
      "needs_background": "light"
     },
     "output_type": "display_data"
    }
   ],
   "source": [
    "plt.imshow(X_train[0])"
   ]
  },
  {
   "cell_type": "code",
   "execution_count": 39,
   "metadata": {},
   "outputs": [
    {
     "data": {
      "text/plain": [
       "<matplotlib.image.AxesImage at 0x1d45d28af88>"
      ]
     },
     "execution_count": 39,
     "metadata": {},
     "output_type": "execute_result"
    },
    {
     "data": {
      "image/png": "[encoded data removed]",
      "text/plain": [
       "<Figure size 432x288 with 1 Axes>"
      ]
     },
     "metadata": {
      "image/png": {
       "height": 248,
       "width": 251
      },
      "needs_background": "light"
     },
     "output_type": "display_data"
    }
   ],
   "source": [
    "plt.imshow(X_train[1])"
   ]
  },
  {
   "cell_type": "code",
   "execution_count": 40,
   "metadata": {},
   "outputs": [],
   "source": [
    "def one_hot_encode(vec, vals=10):\n",
    "    '''\n",
    "    For use to one-hot encode the 10- possible labels\n",
    "    '''\n",
    "    n = len(vec)\n",
    "    out = np.zeros((n, vals))\n",
    "    out[range(n), vec] = 1\n",
    "    return out"
   ]
  },
  {
   "cell_type": "code",
   "execution_count": 41,
   "metadata": {},
   "outputs": [],
   "source": [
    "class CifarHelper():\n",
    "    \n",
    "    def __init__(self):\n",
    "        self.i = 0\n",
    "        \n",
    "        self.all_train_batches = [data_batch1,data_batch2,data_batch3,data_batch4,data_batch5]\n",
    "        self.test_batch = [test_batch]\n",
    "        \n",
    "        self.training_images = None\n",
    "        self.training_labels = None\n",
    "        \n",
    "        self.test_images = None\n",
    "        self.test_labels = None\n",
    "    \n",
    "    def set_up_images(self):\n",
    "        \n",
    "        print(\"Setting Up Training Images and Labels\")\n",
    "        \n",
    "        self.training_images = np.vstack([d[b\"data\"] for d in self.all_train_batches])\n",
    "        train_len = len(self.training_images)\n",
    "        \n",
    "        self.training_images = self.training_images.reshape(train_len,3,32,32).transpose(0,2,3,1)/255\n",
    "        self.training_labels = one_hot_encode(np.hstack([d[b\"labels\"] for d in self.all_train_batches]), 10)\n",
    "        \n",
    "        print(\"Setting Up Test Images and Labels\")\n",
    "        \n",
    "        self.test_images = np.vstack([d[b\"data\"] for d in self.test_batch])\n",
    "        test_len = len(self.test_images)\n",
    "        \n",
    "        self.test_images = self.test_images.reshape(test_len,3,32,32).transpose(0,2,3,1)/255\n",
    "        self.test_labels = one_hot_encode(np.hstack([d[b\"labels\"] for d in self.test_batch]), 10)\n",
    "\n",
    "        \n",
    "    def next_batch(self, batch_size):\n",
    "        x = self.training_images[self.i:self.i+batch_size].reshape(100,32,32,3)\n",
    "        y = self.training_labels[self.i:self.i+batch_size]\n",
    "        self.i = (self.i + batch_size) % len(self.training_images)\n",
    "        return x, y"
   ]
  },
  {
   "cell_type": "code",
   "execution_count": 42,
   "metadata": {},
   "outputs": [
    {
     "name": "stdout",
     "output_type": "stream",
     "text": [
      "Setting Up Training Images and Labels\n",
      "Setting Up Test Images and Labels\n"
     ]
    }
   ],
   "source": [
    "# Before Your tf.Session run these two lines\n",
    "ch = CifarHelper()\n",
    "ch.set_up_images()\n",
    "\n",
    "# During your session to grab the next batch use this line\n",
    "# (Just like we did for mnist.train.next_batch)\n",
    "# batch = ch.next_batch(100)"
   ]
  },
  {
   "cell_type": "code",
   "execution_count": 43,
   "metadata": {},
   "outputs": [
    {
     "name": "stderr",
     "output_type": "stream",
     "text": [
      "Using TensorFlow backend.\n"
     ]
    }
   ],
   "source": [
    "import tensorflow as tf\n",
    "import keras\n",
    "from tensorflow.keras.datasets import cifar10\n",
    "from tensorflow.keras.preprocessing.image import ImageDataGenerator\n",
    "from tensorflow.keras.models import Sequential\n",
    "from tensorflow.keras.layers import Dense, Dropout, Activation, Flatten\n",
    "from tensorflow.keras.layers import Conv2D, MaxPooling2D"
   ]
  },
  {
   "cell_type": "code",
   "execution_count": 44,
   "metadata": {},
   "outputs": [],
   "source": [
    "num_classes = 10\n",
    "y_train = keras.utils.to_categorical(y, num_classes)"
   ]
  },
  {
   "cell_type": "code",
   "execution_count": 45,
   "metadata": {},
   "outputs": [
    {
     "data": {
      "text/plain": [
       "array([[0., 0., 0., 0., 0., 0., 1., 0., 0., 0.]], dtype=float32)"
      ]
     },
     "execution_count": 45,
     "metadata": {},
     "output_type": "execute_result"
    }
   ],
   "source": [
    "y_train[:1]"
   ]
  },
  {
   "cell_type": "code",
   "execution_count": 46,
   "metadata": {},
   "outputs": [],
   "source": [
    "model = Sequential()\n",
    "model.add(Conv2D(32, (3, 3), padding='same',\n",
    "                 input_shape=X_train.shape[1:]))\n",
    "model.add(Activation('relu'))\n",
    "model.add(Conv2D(32, (3, 3)))\n",
    "model.add(Activation('relu'))\n",
    "model.add(MaxPooling2D(pool_size=(2, 2)))\n",
    "model.add(Dropout(0.25))\n",
    "\n",
    "model.add(Conv2D(64, (3, 3), padding='same'))\n",
    "model.add(Activation('relu'))\n",
    "model.add(Conv2D(64, (3, 3)))\n",
    "model.add(Activation('relu'))\n",
    "model.add(MaxPooling2D(pool_size=(2, 2)))\n",
    "model.add(Dropout(0.25))\n",
    "\n",
    "model.add(Flatten())\n",
    "\n",
    "model.add(Dense(256))\n",
    "model.add(Activation('relu'))\n",
    "model.add(Dropout(0.5))\n",
    "\n",
    "model.add(Dense(num_classes))\n",
    "model.add(Activation('softmax'))"
   ]
  },
  {
   "cell_type": "code",
   "execution_count": 47,
   "metadata": {},
   "outputs": [],
   "source": [
    "# Let's train the model using RMSprop\n",
    "model.compile(loss='categorical_crossentropy',\n",
    "              optimizer='adam',\n",
    "              metrics=['accuracy'])"
   ]
  },
  {
   "cell_type": "code",
   "execution_count": 48,
   "metadata": {},
   "outputs": [
    {
     "name": "stdout",
     "output_type": "stream",
     "text": [
      "Model: \"sequential\"\n",
      "_________________________________________________________________\n",
      "Layer (type)                 Output Shape              Param #   \n",
      "=================================================================\n",
      "conv2d (Conv2D)              (None, 32, 32, 32)        896       \n",
      "_________________________________________________________________\n",
      "activation (Activation)      (None, 32, 32, 32)        0         \n",
      "_________________________________________________________________\n",
      "conv2d_1 (Conv2D)            (None, 30, 30, 32)        9248      \n",
      "_________________________________________________________________\n",
      "activation_1 (Activation)    (None, 30, 30, 32)        0         \n",
      "_________________________________________________________________\n",
      "max_pooling2d (MaxPooling2D) (None, 15, 15, 32)        0         \n",
      "_________________________________________________________________\n",
      "dropout (Dropout)            (None, 15, 15, 32)        0         \n",
      "_________________________________________________________________\n",
      "conv2d_2 (Conv2D)            (None, 15, 15, 64)        18496     \n",
      "_________________________________________________________________\n",
      "activation_2 (Activation)    (None, 15, 15, 64)        0         \n",
      "_________________________________________________________________\n",
      "conv2d_3 (Conv2D)            (None, 13, 13, 64)        36928     \n",
      "_________________________________________________________________\n",
      "activation_3 (Activation)    (None, 13, 13, 64)        0         \n",
      "_________________________________________________________________\n",
      "max_pooling2d_1 (MaxPooling2 (None, 6, 6, 64)          0         \n",
      "_________________________________________________________________\n",
      "dropout_1 (Dropout)          (None, 6, 6, 64)          0         \n",
      "_________________________________________________________________\n",
      "flatten (Flatten)            (None, 2304)              0         \n",
      "_________________________________________________________________\n",
      "dense (Dense)                (None, 256)               590080    \n",
      "_________________________________________________________________\n",
      "activation_4 (Activation)    (None, 256)               0         \n",
      "_________________________________________________________________\n",
      "dropout_2 (Dropout)          (None, 256)               0         \n",
      "_________________________________________________________________\n",
      "dense_1 (Dense)              (None, 10)                2570      \n",
      "_________________________________________________________________\n",
      "activation_5 (Activation)    (None, 10)                0         \n",
      "=================================================================\n",
      "Total params: 658,218\n",
      "Trainable params: 658,218\n",
      "Non-trainable params: 0\n",
      "_________________________________________________________________\n"
     ]
    }
   ],
   "source": [
    "model.summary()"
   ]
  },
  {
   "cell_type": "code",
   "execution_count": 53,
   "metadata": {},
   "outputs": [
    {
     "name": "stdout",
     "output_type": "stream",
     "text": [
      "Train on 35000 samples, validate on 15000 samples\n",
      "Epoch 1/3\n"
     ]
    },
    {
     "name": "stdout",
     "output_type": "stream",
     "text": [
      "23552/35000 [===================>..........] - ETA: 6:31 - loss: 2.3219 - accuracy: 0.05 - ETA: 4:04 - loss: 2.3170 - accuracy: 0.07 - ETA: 3:05 - loss: 2.3120 - accuracy: 0.08 - ETA: 2:37 - loss: 2.3097 - accuracy: 0.09 - ETA: 2:19 - loss: 2.3036 - accuracy: 0.10 - ETA: 2:07 - loss: 2.2958 - accuracy: 0.11 - ETA: 1:58 - loss: 2.2923 - accuracy: 0.12 - ETA: 1:53 - loss: 2.2916 - accuracy: 0.12 - ETA: 1:49 - loss: 2.2889 - accuracy: 0.12 - ETA: 1:45 - loss: 2.2917 - accuracy: 0.12 - ETA: 1:42 - loss: 2.2864 - accuracy: 0.12 - ETA: 1:39 - loss: 2.2822 - accuracy: 0.13 - ETA: 1:37 - loss: 2.2759 - accuracy: 0.13 - ETA: 1:35 - loss: 2.2740 - accuracy: 0.14 - ETA: 1:33 - loss: 2.2657 - accuracy: 0.14 - ETA: 1:31 - loss: 2.2591 - accuracy: 0.14 - ETA: 1:29 - loss: 2.2567 - accuracy: 0.14 - ETA: 1:28 - loss: 2.2527 - accuracy: 0.14 - ETA: 1:26 - loss: 2.2479 - accuracy: 0.15 - ETA: 1:25 - loss: 2.2424 - accuracy: 0.15 - ETA: 1:23 - loss: 2.2380 - accuracy: 0.15 - ETA: 1:22 - loss: 2.2355 - accuracy: 0.15 - ETA: 1:21 - loss: 2.2314 - accuracy: 0.15 - ETA: 1:20 - loss: 2.2268 - accuracy: 0.16 - ETA: 1:19 - loss: 2.2269 - accuracy: 0.16 - ETA: 1:18 - loss: 2.2211 - accuracy: 0.16 - ETA: 1:17 - loss: 2.2145 - accuracy: 0.16 - ETA: 1:16 - loss: 2.2100 - accuracy: 0.17 - ETA: 1:16 - loss: 2.2056 - accuracy: 0.17 - ETA: 1:15 - loss: 2.2007 - accuracy: 0.17 - ETA: 1:14 - loss: 2.1959 - accuracy: 0.17 - ETA: 1:13 - loss: 2.1912 - accuracy: 0.17 - ETA: 1:13 - loss: 2.1861 - accuracy: 0.18 - ETA: 1:12 - loss: 2.1834 - accuracy: 0.18 - ETA: 1:11 - loss: 2.1804 - accuracy: 0.18 - ETA: 1:11 - loss: 2.1777 - accuracy: 0.18 - ETA: 1:10 - loss: 2.1729 - accuracy: 0.18 - ETA: 1:10 - loss: 2.1687 - accuracy: 0.18 - ETA: 1:10 - loss: 2.1658 - accuracy: 0.18 - ETA: 1:10 - loss: 2.1625 - accuracy: 0.19 - ETA: 1:10 - loss: 2.1597 - accuracy: 0.19 - ETA: 1:10 - loss: 2.1594 - accuracy: 0.19 - ETA: 1:10 - loss: 2.1543 - accuracy: 0.19 - ETA: 1:10 - loss: 2.1545 - accuracy: 0.19 - ETA: 1:10 - loss: 2.1487 - accuracy: 0.20 - ETA: 1:09 - loss: 2.1459 - accuracy: 0.20 - ETA: 1:09 - loss: 2.1427 - accuracy: 0.20 - ETA: 1:09 - loss: 2.1395 - accuracy: 0.20 - ETA: 1:09 - loss: 2.1368 - accuracy: 0.20 - ETA: 1:09 - loss: 2.1311 - accuracy: 0.21 - ETA: 1:09 - loss: 2.1288 - accuracy: 0.21 - ETA: 1:09 - loss: 2.1253 - accuracy: 0.21 - ETA: 1:09 - loss: 2.1230 - accuracy: 0.21 - ETA: 1:09 - loss: 2.1199 - accuracy: 0.21 - ETA: 1:09 - loss: 2.1156 - accuracy: 0.21 - ETA: 1:09 - loss: 2.1155 - accuracy: 0.21 - ETA: 1:08 - loss: 2.1140 - accuracy: 0.22 - ETA: 1:08 - loss: 2.1117 - accuracy: 0.22 - ETA: 1:08 - loss: 2.1082 - accuracy: 0.22 - ETA: 1:08 - loss: 2.1054 - accuracy: 0.22 - ETA: 1:08 - loss: 2.1021 - accuracy: 0.22 - ETA: 1:07 - loss: 2.0991 - accuracy: 0.22 - ETA: 1:07 - loss: 2.0973 - accuracy: 0.22 - ETA: 1:07 - loss: 2.0941 - accuracy: 0.22 - ETA: 1:07 - loss: 2.0916 - accuracy: 0.23 - ETA: 1:06 - loss: 2.0883 - accuracy: 0.23 - ETA: 1:06 - loss: 2.0862 - accuracy: 0.23 - ETA: 1:06 - loss: 2.0825 - accuracy: 0.23 - ETA: 1:06 - loss: 2.0781 - accuracy: 0.23 - ETA: 1:05 - loss: 2.0734 - accuracy: 0.23 - ETA: 1:05 - loss: 2.0714 - accuracy: 0.23 - ETA: 1:05 - loss: 2.0662 - accuracy: 0.23 - ETA: 1:04 - loss: 2.0634 - accuracy: 0.24 - ETA: 1:04 - loss: 2.0627 - accuracy: 0.24 - ETA: 1:04 - loss: 2.0601 - accuracy: 0.24 - ETA: 1:04 - loss: 2.0589 - accuracy: 0.24 - ETA: 1:03 - loss: 2.0577 - accuracy: 0.24 - ETA: 1:03 - loss: 2.0556 - accuracy: 0.24 - ETA: 1:03 - loss: 2.0526 - accuracy: 0.24 - ETA: 1:02 - loss: 2.0509 - accuracy: 0.24 - ETA: 1:02 - loss: 2.0482 - accuracy: 0.24 - ETA: 1:02 - loss: 2.0449 - accuracy: 0.24 - ETA: 1:01 - loss: 2.0416 - accuracy: 0.24 - ETA: 1:01 - loss: 2.0401 - accuracy: 0.25 - ETA: 1:01 - loss: 2.0366 - accuracy: 0.25 - ETA: 1:01 - loss: 2.0342 - accuracy: 0.25 - ETA: 1:00 - loss: 2.0323 - accuracy: 0.25 - ETA: 1:00 - loss: 2.0290 - accuracy: 0.25 - ETA: 1:00 - loss: 2.0267 - accuracy: 0.25 - ETA: 59s - loss: 2.0243 - accuracy: 0.2559 - ETA: 59s - loss: 2.0214 - accuracy: 0.257 - ETA: 59s - loss: 2.0192 - accuracy: 0.258 - ETA: 58s - loss: 2.0171 - accuracy: 0.259 - ETA: 58s - loss: 2.0154 - accuracy: 0.260 - ETA: 58s - loss: 2.0134 - accuracy: 0.261 - ETA: 58s - loss: 2.0107 - accuracy: 0.262 - ETA: 57s - loss: 2.0093 - accuracy: 0.262 - ETA: 57s - loss: 2.0066 - accuracy: 0.264 - ETA: 57s - loss: 2.0045 - accuracy: 0.264 - ETA: 57s - loss: 2.0027 - accuracy: 0.265 - ETA: 56s - loss: 2.0005 - accuracy: 0.265 - ETA: 56s - loss: 1.9989 - accuracy: 0.266 - ETA: 56s - loss: 1.9973 - accuracy: 0.266 - ETA: 55s - loss: 1.9948 - accuracy: 0.267 - ETA: 55s - loss: 1.9924 - accuracy: 0.269 - ETA: 55s - loss: 1.9902 - accuracy: 0.270 - ETA: 55s - loss: 1.9893 - accuracy: 0.270 - ETA: 54s - loss: 1.9862 - accuracy: 0.272 - ETA: 54s - loss: 1.9841 - accuracy: 0.272 - ETA: 54s - loss: 1.9816 - accuracy: 0.273 - ETA: 53s - loss: 1.9795 - accuracy: 0.274 - ETA: 53s - loss: 1.9766 - accuracy: 0.275 - ETA: 53s - loss: 1.9735 - accuracy: 0.277 - ETA: 52s - loss: 1.9707 - accuracy: 0.278 - ETA: 52s - loss: 1.9676 - accuracy: 0.279 - ETA: 52s - loss: 1.9652 - accuracy: 0.280 - ETA: 51s - loss: 1.9642 - accuracy: 0.280 - ETA: 51s - loss: 1.9628 - accuracy: 0.280 - ETA: 51s - loss: 1.9591 - accuracy: 0.281 - ETA: 50s - loss: 1.9565 - accuracy: 0.282 - ETA: 50s - loss: 1.9547 - accuracy: 0.284 - ETA: 50s - loss: 1.9515 - accuracy: 0.285 - ETA: 50s - loss: 1.9483 - accuracy: 0.286 - ETA: 49s - loss: 1.9473 - accuracy: 0.287 - ETA: 49s - loss: 1.9451 - accuracy: 0.288 - ETA: 49s - loss: 1.9433 - accuracy: 0.289 - ETA: 48s - loss: 1.9419 - accuracy: 0.290 - ETA: 48s - loss: 1.9399 - accuracy: 0.290 - ETA: 48s - loss: 1.9382 - accuracy: 0.290 - ETA: 47s - loss: 1.9352 - accuracy: 0.292 - ETA: 47s - loss: 1.9332 - accuracy: 0.293 - ETA: 47s - loss: 1.9317 - accuracy: 0.293 - ETA: 46s - loss: 1.9308 - accuracy: 0.294 - ETA: 46s - loss: 1.9295 - accuracy: 0.294 - ETA: 46s - loss: 1.9274 - accuracy: 0.295 - ETA: 45s - loss: 1.9254 - accuracy: 0.296 - ETA: 45s - loss: 1.9244 - accuracy: 0.296 - ETA: 45s - loss: 1.9226 - accuracy: 0.297 - ETA: 44s - loss: 1.9205 - accuracy: 0.298 - ETA: 44s - loss: 1.9196 - accuracy: 0.298 - ETA: 44s - loss: 1.9183 - accuracy: 0.299 - ETA: 43s - loss: 1.9166 - accuracy: 0.299 - ETA: 43s - loss: 1.9141 - accuracy: 0.300 - ETA: 43s - loss: 1.9118 - accuracy: 0.301 - ETA: 42s - loss: 1.9106 - accuracy: 0.302 - ETA: 42s - loss: 1.9079 - accuracy: 0.303 - ETA: 42s - loss: 1.9062 - accuracy: 0.303 - ETA: 41s - loss: 1.9053 - accuracy: 0.303 - ETA: 41s - loss: 1.9041 - accuracy: 0.304 - ETA: 41s - loss: 1.9020 - accuracy: 0.304 - ETA: 40s - loss: 1.8999 - accuracy: 0.305 - ETA: 40s - loss: 1.8972 - accuracy: 0.306 - ETA: 40s - loss: 1.8955 - accuracy: 0.306 - ETA: 39s - loss: 1.8940 - accuracy: 0.307 - ETA: 39s - loss: 1.8916 - accuracy: 0.307 - ETA: 39s - loss: 1.8899 - accuracy: 0.308 - ETA: 38s - loss: 1.8882 - accuracy: 0.309 - ETA: 38s - loss: 1.8868 - accuracy: 0.310 - ETA: 38s - loss: 1.8855 - accuracy: 0.310 - ETA: 37s - loss: 1.8842 - accuracy: 0.311 - ETA: 37s - loss: 1.8830 - accuracy: 0.311 - ETA: 37s - loss: 1.8821 - accuracy: 0.311 - ETA: 36s - loss: 1.8803 - accuracy: 0.312 - ETA: 36s - loss: 1.8787 - accuracy: 0.312 - ETA: 36s - loss: 1.8768 - accuracy: 0.313 - ETA: 35s - loss: 1.8757 - accuracy: 0.313 - ETA: 35s - loss: 1.8755 - accuracy: 0.313 - ETA: 35s - loss: 1.8749 - accuracy: 0.313 - ETA: 34s - loss: 1.8726 - accuracy: 0.315 - ETA: 34s - loss: 1.8717 - accuracy: 0.315 - ETA: 34s - loss: 1.8701 - accuracy: 0.315 - ETA: 33s - loss: 1.8680 - accuracy: 0.316 - ETA: 33s - loss: 1.8682 - accuracy: 0.316 - ETA: 33s - loss: 1.8673 - accuracy: 0.317 - ETA: 32s - loss: 1.8651 - accuracy: 0.317 - ETA: 32s - loss: 1.8643 - accuracy: 0.318 - ETA: 32s - loss: 1.8625 - accuracy: 0.319 - ETA: 31s - loss: 1.8617 - accuracy: 0.319 - ETA: 31s - loss: 1.8607 - accuracy: 0.319 - ETA: 31s - loss: 1.8602 - accuracy: 0.319 - ETA: 31s - loss: 1.8586 - accuracy: 0.320 - ETA: 30s - loss: 1.8576 - accuracy: 0.320 - ETA: 30s - loss: 1.8559 - accuracy: 0.321 - ETA: 30s - loss: 1.8548 - accuracy: 0.3214\b\b\b\b\b\b\b\b\b\b\b\b\b\b\b\b\b\b\b\b\b\b\b\b\b\b\b\b\b\b\b\b\b\b\b\b\b\b\b\b\b\b\b\b\b\b\b\b\b\b\b\b\b\b\b\b\b\b\b\b\b\b\b\b\b\b\b\b\b\b\b\b\b\b\b\b\b\b\b\b\b\b\b\b\b\b\b\b\b"
     ]
    },
    {
     "name": "stdout",
     "output_type": "stream",
     "text": [
      "35000/35000 [==============================] - ETA: 29s - loss: 1.8527 - accuracy: 0.322 - ETA: 29s - loss: 1.8518 - accuracy: 0.322 - ETA: 29s - loss: 1.8503 - accuracy: 0.323 - ETA: 28s - loss: 1.8495 - accuracy: 0.323 - ETA: 28s - loss: 1.8483 - accuracy: 0.324 - ETA: 28s - loss: 1.8468 - accuracy: 0.324 - ETA: 27s - loss: 1.8462 - accuracy: 0.324 - ETA: 27s - loss: 1.8444 - accuracy: 0.325 - ETA: 27s - loss: 1.8429 - accuracy: 0.326 - ETA: 26s - loss: 1.8415 - accuracy: 0.326 - ETA: 26s - loss: 1.8401 - accuracy: 0.327 - ETA: 26s - loss: 1.8390 - accuracy: 0.327 - ETA: 25s - loss: 1.8377 - accuracy: 0.327 - ETA: 25s - loss: 1.8360 - accuracy: 0.328 - ETA: 24s - loss: 1.8346 - accuracy: 0.328 - ETA: 24s - loss: 1.8333 - accuracy: 0.329 - ETA: 24s - loss: 1.8318 - accuracy: 0.329 - ETA: 23s - loss: 1.8304 - accuracy: 0.330 - ETA: 23s - loss: 1.8289 - accuracy: 0.330 - ETA: 23s - loss: 1.8274 - accuracy: 0.331 - ETA: 22s - loss: 1.8263 - accuracy: 0.332 - ETA: 22s - loss: 1.8248 - accuracy: 0.332 - ETA: 22s - loss: 1.8241 - accuracy: 0.332 - ETA: 21s - loss: 1.8229 - accuracy: 0.333 - ETA: 21s - loss: 1.8220 - accuracy: 0.333 - ETA: 20s - loss: 1.8211 - accuracy: 0.334 - ETA: 20s - loss: 1.8197 - accuracy: 0.334 - ETA: 20s - loss: 1.8189 - accuracy: 0.334 - ETA: 19s - loss: 1.8182 - accuracy: 0.334 - ETA: 19s - loss: 1.8169 - accuracy: 0.335 - ETA: 19s - loss: 1.8157 - accuracy: 0.335 - ETA: 18s - loss: 1.8142 - accuracy: 0.336 - ETA: 18s - loss: 1.8133 - accuracy: 0.336 - ETA: 18s - loss: 1.8122 - accuracy: 0.336 - ETA: 17s - loss: 1.8113 - accuracy: 0.336 - ETA: 17s - loss: 1.8103 - accuracy: 0.337 - ETA: 17s - loss: 1.8088 - accuracy: 0.337 - ETA: 16s - loss: 1.8072 - accuracy: 0.338 - ETA: 16s - loss: 1.8057 - accuracy: 0.338 - ETA: 16s - loss: 1.8046 - accuracy: 0.339 - ETA: 15s - loss: 1.8030 - accuracy: 0.339 - ETA: 15s - loss: 1.8017 - accuracy: 0.339 - ETA: 15s - loss: 1.7999 - accuracy: 0.340 - ETA: 14s - loss: 1.7987 - accuracy: 0.341 - ETA: 14s - loss: 1.7976 - accuracy: 0.341 - ETA: 14s - loss: 1.7961 - accuracy: 0.342 - ETA: 13s - loss: 1.7950 - accuracy: 0.342 - ETA: 13s - loss: 1.7934 - accuracy: 0.343 - ETA: 13s - loss: 1.7932 - accuracy: 0.343 - ETA: 13s - loss: 1.7919 - accuracy: 0.343 - ETA: 12s - loss: 1.7908 - accuracy: 0.344 - ETA: 12s - loss: 1.7894 - accuracy: 0.344 - ETA: 12s - loss: 1.7883 - accuracy: 0.344 - ETA: 11s - loss: 1.7874 - accuracy: 0.345 - ETA: 11s - loss: 1.7859 - accuracy: 0.346 - ETA: 11s - loss: 1.7846 - accuracy: 0.346 - ETA: 10s - loss: 1.7841 - accuracy: 0.346 - ETA: 10s - loss: 1.7824 - accuracy: 0.347 - ETA: 10s - loss: 1.7811 - accuracy: 0.348 - ETA: 9s - loss: 1.7797 - accuracy: 0.348 - ETA: 9s - loss: 1.7786 - accuracy: 0.34 - ETA: 9s - loss: 1.7782 - accuracy: 0.34 - ETA: 8s - loss: 1.7775 - accuracy: 0.34 - ETA: 8s - loss: 1.7767 - accuracy: 0.34 - ETA: 8s - loss: 1.7761 - accuracy: 0.34 - ETA: 7s - loss: 1.7757 - accuracy: 0.34 - ETA: 7s - loss: 1.7746 - accuracy: 0.34 - ETA: 7s - loss: 1.7740 - accuracy: 0.35 - ETA: 6s - loss: 1.7729 - accuracy: 0.35 - ETA: 6s - loss: 1.7715 - accuracy: 0.35 - ETA: 6s - loss: 1.7704 - accuracy: 0.35 - ETA: 5s - loss: 1.7692 - accuracy: 0.35 - ETA: 5s - loss: 1.7684 - accuracy: 0.35 - ETA: 5s - loss: 1.7672 - accuracy: 0.35 - ETA: 4s - loss: 1.7663 - accuracy: 0.35 - ETA: 4s - loss: 1.7654 - accuracy: 0.35 - ETA: 4s - loss: 1.7640 - accuracy: 0.35 - ETA: 3s - loss: 1.7631 - accuracy: 0.35 - ETA: 3s - loss: 1.7619 - accuracy: 0.35 - ETA: 3s - loss: 1.7601 - accuracy: 0.35 - ETA: 2s - loss: 1.7594 - accuracy: 0.35 - ETA: 2s - loss: 1.7588 - accuracy: 0.35 - ETA: 2s - loss: 1.7575 - accuracy: 0.35 - ETA: 1s - loss: 1.7563 - accuracy: 0.35 - ETA: 1s - loss: 1.7556 - accuracy: 0.35 - ETA: 1s - loss: 1.7546 - accuracy: 0.35 - ETA: 0s - loss: 1.7537 - accuracy: 0.35 - ETA: 0s - loss: 1.7530 - accuracy: 0.35 - ETA: 0s - loss: 1.7516 - accuracy: 0.35 - 100s 3ms/sample - loss: 1.7509 - accuracy: 0.3582 - val_loss: 1.3730 - val_accuracy: 0.5077\n",
      "Epoch 2/3\n"
     ]
    },
    {
     "name": "stdout",
     "output_type": "stream",
     "text": [
      "23808/35000 [===================>..........] - ETA: 1:31 - loss: 1.4500 - accuracy: 0.46 - ETA: 1:29 - loss: 1.4893 - accuracy: 0.44 - ETA: 1:28 - loss: 1.4782 - accuracy: 0.47 - ETA: 1:27 - loss: 1.4476 - accuracy: 0.48 - ETA: 1:28 - loss: 1.4671 - accuracy: 0.46 - ETA: 1:28 - loss: 1.4242 - accuracy: 0.46 - ETA: 1:27 - loss: 1.4495 - accuracy: 0.46 - ETA: 1:26 - loss: 1.4687 - accuracy: 0.46 - ETA: 1:27 - loss: 1.4627 - accuracy: 0.46 - ETA: 1:26 - loss: 1.4492 - accuracy: 0.47 - ETA: 1:26 - loss: 1.4500 - accuracy: 0.47 - ETA: 1:25 - loss: 1.4444 - accuracy: 0.47 - ETA: 1:25 - loss: 1.4389 - accuracy: 0.48 - ETA: 1:25 - loss: 1.4432 - accuracy: 0.47 - ETA: 1:24 - loss: 1.4291 - accuracy: 0.47 - ETA: 1:24 - loss: 1.4349 - accuracy: 0.47 - ETA: 1:24 - loss: 1.4368 - accuracy: 0.48 - ETA: 1:23 - loss: 1.4396 - accuracy: 0.48 - ETA: 1:23 - loss: 1.4385 - accuracy: 0.48 - ETA: 1:23 - loss: 1.4384 - accuracy: 0.48 - ETA: 1:22 - loss: 1.4354 - accuracy: 0.48 - ETA: 1:22 - loss: 1.4353 - accuracy: 0.48 - ETA: 1:22 - loss: 1.4356 - accuracy: 0.48 - ETA: 1:22 - loss: 1.4329 - accuracy: 0.48 - ETA: 1:21 - loss: 1.4339 - accuracy: 0.48 - ETA: 1:21 - loss: 1.4351 - accuracy: 0.48 - ETA: 1:21 - loss: 1.4319 - accuracy: 0.48 - ETA: 1:20 - loss: 1.4333 - accuracy: 0.48 - ETA: 1:20 - loss: 1.4284 - accuracy: 0.48 - ETA: 1:20 - loss: 1.4296 - accuracy: 0.48 - ETA: 1:20 - loss: 1.4287 - accuracy: 0.48 - ETA: 1:19 - loss: 1.4251 - accuracy: 0.48 - ETA: 1:19 - loss: 1.4228 - accuracy: 0.48 - ETA: 1:19 - loss: 1.4220 - accuracy: 0.48 - ETA: 1:19 - loss: 1.4227 - accuracy: 0.48 - ETA: 1:19 - loss: 1.4231 - accuracy: 0.48 - ETA: 1:18 - loss: 1.4190 - accuracy: 0.48 - ETA: 1:18 - loss: 1.4260 - accuracy: 0.48 - ETA: 1:18 - loss: 1.4243 - accuracy: 0.48 - ETA: 1:18 - loss: 1.4223 - accuracy: 0.48 - ETA: 1:17 - loss: 1.4203 - accuracy: 0.48 - ETA: 1:17 - loss: 1.4220 - accuracy: 0.48 - ETA: 1:17 - loss: 1.4215 - accuracy: 0.48 - ETA: 1:17 - loss: 1.4225 - accuracy: 0.48 - ETA: 1:16 - loss: 1.4228 - accuracy: 0.48 - ETA: 1:16 - loss: 1.4211 - accuracy: 0.48 - ETA: 1:16 - loss: 1.4217 - accuracy: 0.48 - ETA: 1:15 - loss: 1.4194 - accuracy: 0.49 - ETA: 1:15 - loss: 1.4172 - accuracy: 0.49 - ETA: 1:14 - loss: 1.4157 - accuracy: 0.49 - ETA: 1:14 - loss: 1.4190 - accuracy: 0.48 - ETA: 1:14 - loss: 1.4196 - accuracy: 0.48 - ETA: 1:13 - loss: 1.4184 - accuracy: 0.48 - ETA: 1:13 - loss: 1.4191 - accuracy: 0.48 - ETA: 1:13 - loss: 1.4187 - accuracy: 0.48 - ETA: 1:12 - loss: 1.4188 - accuracy: 0.48 - ETA: 1:12 - loss: 1.4191 - accuracy: 0.48 - ETA: 1:12 - loss: 1.4197 - accuracy: 0.48 - ETA: 1:11 - loss: 1.4176 - accuracy: 0.48 - ETA: 1:11 - loss: 1.4156 - accuracy: 0.49 - ETA: 1:11 - loss: 1.4146 - accuracy: 0.49 - ETA: 1:10 - loss: 1.4123 - accuracy: 0.49 - ETA: 1:10 - loss: 1.4121 - accuracy: 0.49 - ETA: 1:10 - loss: 1.4139 - accuracy: 0.49 - ETA: 1:09 - loss: 1.4159 - accuracy: 0.48 - ETA: 1:09 - loss: 1.4153 - accuracy: 0.48 - ETA: 1:08 - loss: 1.4124 - accuracy: 0.49 - ETA: 1:08 - loss: 1.4083 - accuracy: 0.49 - ETA: 1:08 - loss: 1.4079 - accuracy: 0.49 - ETA: 1:07 - loss: 1.4072 - accuracy: 0.49 - ETA: 1:07 - loss: 1.4090 - accuracy: 0.49 - ETA: 1:07 - loss: 1.4078 - accuracy: 0.49 - ETA: 1:06 - loss: 1.4062 - accuracy: 0.49 - ETA: 1:06 - loss: 1.4052 - accuracy: 0.49 - ETA: 1:06 - loss: 1.4082 - accuracy: 0.49 - ETA: 1:05 - loss: 1.4064 - accuracy: 0.49 - ETA: 1:05 - loss: 1.4052 - accuracy: 0.49 - ETA: 1:05 - loss: 1.4095 - accuracy: 0.49 - ETA: 1:04 - loss: 1.4086 - accuracy: 0.49 - ETA: 1:04 - loss: 1.4098 - accuracy: 0.49 - ETA: 1:04 - loss: 1.4080 - accuracy: 0.49 - ETA: 1:04 - loss: 1.4074 - accuracy: 0.49 - ETA: 1:03 - loss: 1.4101 - accuracy: 0.49 - ETA: 1:03 - loss: 1.4084 - accuracy: 0.49 - ETA: 1:03 - loss: 1.4089 - accuracy: 0.49 - ETA: 1:02 - loss: 1.4088 - accuracy: 0.49 - ETA: 1:02 - loss: 1.4092 - accuracy: 0.49 - ETA: 1:02 - loss: 1.4096 - accuracy: 0.49 - ETA: 1:01 - loss: 1.4083 - accuracy: 0.49 - ETA: 1:01 - loss: 1.4097 - accuracy: 0.49 - ETA: 1:01 - loss: 1.4102 - accuracy: 0.49 - ETA: 1:00 - loss: 1.4099 - accuracy: 0.49 - ETA: 1:00 - loss: 1.4104 - accuracy: 0.49 - ETA: 1:00 - loss: 1.4085 - accuracy: 0.49 - ETA: 59s - loss: 1.4070 - accuracy: 0.4916 - ETA: 59s - loss: 1.4078 - accuracy: 0.491 - ETA: 59s - loss: 1.4066 - accuracy: 0.492 - ETA: 58s - loss: 1.4063 - accuracy: 0.491 - ETA: 58s - loss: 1.4059 - accuracy: 0.491 - ETA: 58s - loss: 1.4052 - accuracy: 0.492 - ETA: 57s - loss: 1.4044 - accuracy: 0.492 - ETA: 57s - loss: 1.4022 - accuracy: 0.493 - ETA: 57s - loss: 1.4010 - accuracy: 0.493 - ETA: 56s - loss: 1.3992 - accuracy: 0.494 - ETA: 56s - loss: 1.3983 - accuracy: 0.494 - ETA: 56s - loss: 1.3984 - accuracy: 0.494 - ETA: 55s - loss: 1.3968 - accuracy: 0.495 - ETA: 55s - loss: 1.3954 - accuracy: 0.496 - ETA: 55s - loss: 1.3949 - accuracy: 0.496 - ETA: 54s - loss: 1.3941 - accuracy: 0.497 - ETA: 54s - loss: 1.3951 - accuracy: 0.496 - ETA: 54s - loss: 1.3947 - accuracy: 0.497 - ETA: 53s - loss: 1.3958 - accuracy: 0.497 - ETA: 53s - loss: 1.3953 - accuracy: 0.497 - ETA: 53s - loss: 1.3963 - accuracy: 0.496 - ETA: 52s - loss: 1.3965 - accuracy: 0.497 - ETA: 52s - loss: 1.3961 - accuracy: 0.496 - ETA: 52s - loss: 1.3952 - accuracy: 0.496 - ETA: 51s - loss: 1.3953 - accuracy: 0.496 - ETA: 51s - loss: 1.3952 - accuracy: 0.497 - ETA: 50s - loss: 1.3946 - accuracy: 0.497 - ETA: 50s - loss: 1.3950 - accuracy: 0.496 - ETA: 50s - loss: 1.3948 - accuracy: 0.497 - ETA: 49s - loss: 1.3940 - accuracy: 0.497 - ETA: 49s - loss: 1.3930 - accuracy: 0.497 - ETA: 49s - loss: 1.3932 - accuracy: 0.497 - ETA: 48s - loss: 1.3924 - accuracy: 0.497 - ETA: 48s - loss: 1.3908 - accuracy: 0.498 - ETA: 48s - loss: 1.3897 - accuracy: 0.499 - ETA: 47s - loss: 1.3899 - accuracy: 0.498 - ETA: 47s - loss: 1.3906 - accuracy: 0.498 - ETA: 47s - loss: 1.3896 - accuracy: 0.498 - ETA: 47s - loss: 1.3878 - accuracy: 0.499 - ETA: 46s - loss: 1.3874 - accuracy: 0.499 - ETA: 46s - loss: 1.3870 - accuracy: 0.499 - ETA: 46s - loss: 1.3871 - accuracy: 0.499 - ETA: 45s - loss: 1.3870 - accuracy: 0.499 - ETA: 45s - loss: 1.3857 - accuracy: 0.499 - ETA: 45s - loss: 1.3851 - accuracy: 0.499 - ETA: 44s - loss: 1.3844 - accuracy: 0.500 - ETA: 44s - loss: 1.3845 - accuracy: 0.500 - ETA: 43s - loss: 1.3832 - accuracy: 0.501 - ETA: 43s - loss: 1.3827 - accuracy: 0.501 - ETA: 43s - loss: 1.3821 - accuracy: 0.501 - ETA: 42s - loss: 1.3815 - accuracy: 0.501 - ETA: 42s - loss: 1.3814 - accuracy: 0.502 - ETA: 42s - loss: 1.3820 - accuracy: 0.501 - ETA: 41s - loss: 1.3823 - accuracy: 0.501 - ETA: 41s - loss: 1.3828 - accuracy: 0.501 - ETA: 41s - loss: 1.3821 - accuracy: 0.501 - ETA: 40s - loss: 1.3819 - accuracy: 0.501 - ETA: 40s - loss: 1.3804 - accuracy: 0.501 - ETA: 40s - loss: 1.3806 - accuracy: 0.501 - ETA: 39s - loss: 1.3802 - accuracy: 0.502 - ETA: 39s - loss: 1.3796 - accuracy: 0.502 - ETA: 39s - loss: 1.3789 - accuracy: 0.502 - ETA: 38s - loss: 1.3789 - accuracy: 0.502 - ETA: 38s - loss: 1.3796 - accuracy: 0.502 - ETA: 38s - loss: 1.3791 - accuracy: 0.502 - ETA: 37s - loss: 1.3773 - accuracy: 0.503 - ETA: 37s - loss: 1.3770 - accuracy: 0.503 - ETA: 37s - loss: 1.3765 - accuracy: 0.503 - ETA: 36s - loss: 1.3759 - accuracy: 0.504 - ETA: 36s - loss: 1.3746 - accuracy: 0.504 - ETA: 36s - loss: 1.3733 - accuracy: 0.505 - ETA: 35s - loss: 1.3743 - accuracy: 0.504 - ETA: 35s - loss: 1.3746 - accuracy: 0.504 - ETA: 35s - loss: 1.3743 - accuracy: 0.504 - ETA: 34s - loss: 1.3740 - accuracy: 0.504 - ETA: 34s - loss: 1.3733 - accuracy: 0.504 - ETA: 34s - loss: 1.3722 - accuracy: 0.505 - ETA: 33s - loss: 1.3715 - accuracy: 0.505 - ETA: 33s - loss: 1.3708 - accuracy: 0.505 - ETA: 33s - loss: 1.3709 - accuracy: 0.505 - ETA: 32s - loss: 1.3720 - accuracy: 0.505 - ETA: 32s - loss: 1.3719 - accuracy: 0.505 - ETA: 32s - loss: 1.3727 - accuracy: 0.505 - ETA: 31s - loss: 1.3727 - accuracy: 0.504 - ETA: 31s - loss: 1.3733 - accuracy: 0.505 - ETA: 31s - loss: 1.3722 - accuracy: 0.505 - ETA: 30s - loss: 1.3721 - accuracy: 0.505 - ETA: 30s - loss: 1.3718 - accuracy: 0.505 - ETA: 30s - loss: 1.3717 - accuracy: 0.505 - ETA: 29s - loss: 1.3707 - accuracy: 0.505 - ETA: 29s - loss: 1.3705 - accuracy: 0.505 - ETA: 29s - loss: 1.3707 - accuracy: 0.5060"
     ]
    },
    {
     "name": "stdout",
     "output_type": "stream",
     "text": [
      "35000/35000 [==============================] - ETA: 28s - loss: 1.3707 - accuracy: 0.506 - ETA: 28s - loss: 1.3708 - accuracy: 0.505 - ETA: 28s - loss: 1.3705 - accuracy: 0.506 - ETA: 27s - loss: 1.3703 - accuracy: 0.506 - ETA: 27s - loss: 1.3705 - accuracy: 0.505 - ETA: 27s - loss: 1.3694 - accuracy: 0.506 - ETA: 26s - loss: 1.3687 - accuracy: 0.506 - ETA: 26s - loss: 1.3674 - accuracy: 0.506 - ETA: 26s - loss: 1.3673 - accuracy: 0.506 - ETA: 25s - loss: 1.3667 - accuracy: 0.507 - ETA: 25s - loss: 1.3673 - accuracy: 0.506 - ETA: 25s - loss: 1.3671 - accuracy: 0.507 - ETA: 24s - loss: 1.3659 - accuracy: 0.507 - ETA: 24s - loss: 1.3654 - accuracy: 0.507 - ETA: 24s - loss: 1.3648 - accuracy: 0.507 - ETA: 23s - loss: 1.3637 - accuracy: 0.508 - ETA: 23s - loss: 1.3649 - accuracy: 0.507 - ETA: 23s - loss: 1.3639 - accuracy: 0.508 - ETA: 22s - loss: 1.3632 - accuracy: 0.508 - ETA: 22s - loss: 1.3627 - accuracy: 0.508 - ETA: 22s - loss: 1.3627 - accuracy: 0.508 - ETA: 21s - loss: 1.3619 - accuracy: 0.508 - ETA: 21s - loss: 1.3608 - accuracy: 0.509 - ETA: 21s - loss: 1.3605 - accuracy: 0.509 - ETA: 20s - loss: 1.3607 - accuracy: 0.509 - ETA: 20s - loss: 1.3603 - accuracy: 0.509 - ETA: 20s - loss: 1.3596 - accuracy: 0.510 - ETA: 19s - loss: 1.3590 - accuracy: 0.510 - ETA: 19s - loss: 1.3596 - accuracy: 0.510 - ETA: 19s - loss: 1.3587 - accuracy: 0.510 - ETA: 18s - loss: 1.3588 - accuracy: 0.510 - ETA: 18s - loss: 1.3586 - accuracy: 0.510 - ETA: 18s - loss: 1.3590 - accuracy: 0.510 - ETA: 17s - loss: 1.3590 - accuracy: 0.510 - ETA: 17s - loss: 1.3588 - accuracy: 0.510 - ETA: 17s - loss: 1.3583 - accuracy: 0.511 - ETA: 16s - loss: 1.3582 - accuracy: 0.510 - ETA: 16s - loss: 1.3579 - accuracy: 0.511 - ETA: 16s - loss: 1.3579 - accuracy: 0.511 - ETA: 15s - loss: 1.3575 - accuracy: 0.511 - ETA: 15s - loss: 1.3565 - accuracy: 0.511 - ETA: 15s - loss: 1.3564 - accuracy: 0.511 - ETA: 14s - loss: 1.3562 - accuracy: 0.511 - ETA: 14s - loss: 1.3561 - accuracy: 0.511 - ETA: 14s - loss: 1.3555 - accuracy: 0.512 - ETA: 13s - loss: 1.3553 - accuracy: 0.512 - ETA: 13s - loss: 1.3557 - accuracy: 0.512 - ETA: 13s - loss: 1.3553 - accuracy: 0.512 - ETA: 12s - loss: 1.3553 - accuracy: 0.512 - ETA: 12s - loss: 1.3556 - accuracy: 0.512 - ETA: 12s - loss: 1.3558 - accuracy: 0.511 - ETA: 11s - loss: 1.3560 - accuracy: 0.511 - ETA: 11s - loss: 1.3561 - accuracy: 0.511 - ETA: 11s - loss: 1.3556 - accuracy: 0.511 - ETA: 10s - loss: 1.3550 - accuracy: 0.511 - ETA: 10s - loss: 1.3551 - accuracy: 0.511 - ETA: 10s - loss: 1.3549 - accuracy: 0.511 - ETA: 9s - loss: 1.3546 - accuracy: 0.511 - ETA: 9s - loss: 1.3545 - accuracy: 0.51 - ETA: 9s - loss: 1.3536 - accuracy: 0.51 - ETA: 8s - loss: 1.3530 - accuracy: 0.51 - ETA: 8s - loss: 1.3528 - accuracy: 0.51 - ETA: 8s - loss: 1.3525 - accuracy: 0.51 - ETA: 7s - loss: 1.3523 - accuracy: 0.51 - ETA: 7s - loss: 1.3519 - accuracy: 0.51 - ETA: 7s - loss: 1.3517 - accuracy: 0.51 - ETA: 6s - loss: 1.3516 - accuracy: 0.51 - ETA: 6s - loss: 1.3518 - accuracy: 0.51 - ETA: 6s - loss: 1.3518 - accuracy: 0.51 - ETA: 5s - loss: 1.3512 - accuracy: 0.51 - ETA: 5s - loss: 1.3504 - accuracy: 0.51 - ETA: 5s - loss: 1.3507 - accuracy: 0.51 - ETA: 4s - loss: 1.3507 - accuracy: 0.51 - ETA: 4s - loss: 1.3500 - accuracy: 0.51 - ETA: 4s - loss: 1.3497 - accuracy: 0.51 - ETA: 3s - loss: 1.3492 - accuracy: 0.51 - ETA: 3s - loss: 1.3488 - accuracy: 0.51 - ETA: 3s - loss: 1.3485 - accuracy: 0.51 - ETA: 2s - loss: 1.3488 - accuracy: 0.51 - ETA: 2s - loss: 1.3488 - accuracy: 0.51 - ETA: 2s - loss: 1.3482 - accuracy: 0.51 - ETA: 1s - loss: 1.3477 - accuracy: 0.51 - ETA: 1s - loss: 1.3475 - accuracy: 0.51 - ETA: 1s - loss: 1.3471 - accuracy: 0.51 - ETA: 0s - loss: 1.3462 - accuracy: 0.51 - ETA: 0s - loss: 1.3458 - accuracy: 0.51 - ETA: 0s - loss: 1.3451 - accuracy: 0.51 - 101s 3ms/sample - loss: 1.3450 - accuracy: 0.5153 - val_loss: 1.1657 - val_accuracy: 0.5874\n",
      "Epoch 3/3\n"
     ]
    },
    {
     "name": "stdout",
     "output_type": "stream",
     "text": [
      "23808/35000 [===================>..........] - ETA: 1:25 - loss: 1.2155 - accuracy: 0.58 - ETA: 1:25 - loss: 1.1642 - accuracy: 0.58 - ETA: 1:27 - loss: 1.2148 - accuracy: 0.56 - ETA: 1:27 - loss: 1.2144 - accuracy: 0.56 - ETA: 1:26 - loss: 1.1841 - accuracy: 0.57 - ETA: 1:26 - loss: 1.1919 - accuracy: 0.57 - ETA: 1:27 - loss: 1.1790 - accuracy: 0.57 - ETA: 1:26 - loss: 1.1928 - accuracy: 0.57 - ETA: 1:25 - loss: 1.1866 - accuracy: 0.57 - ETA: 1:25 - loss: 1.1858 - accuracy: 0.57 - ETA: 1:25 - loss: 1.2001 - accuracy: 0.57 - ETA: 1:24 - loss: 1.1953 - accuracy: 0.57 - ETA: 1:24 - loss: 1.2011 - accuracy: 0.57 - ETA: 1:24 - loss: 1.2120 - accuracy: 0.56 - ETA: 1:23 - loss: 1.2026 - accuracy: 0.57 - ETA: 1:23 - loss: 1.1955 - accuracy: 0.57 - ETA: 1:22 - loss: 1.2009 - accuracy: 0.57 - ETA: 1:22 - loss: 1.2093 - accuracy: 0.56 - ETA: 1:22 - loss: 1.2207 - accuracy: 0.56 - ETA: 1:22 - loss: 1.2183 - accuracy: 0.56 - ETA: 1:22 - loss: 1.2174 - accuracy: 0.56 - ETA: 1:22 - loss: 1.2165 - accuracy: 0.56 - ETA: 1:22 - loss: 1.2225 - accuracy: 0.56 - ETA: 1:22 - loss: 1.2217 - accuracy: 0.56 - ETA: 1:22 - loss: 1.2234 - accuracy: 0.56 - ETA: 1:21 - loss: 1.2195 - accuracy: 0.56 - ETA: 1:21 - loss: 1.2225 - accuracy: 0.56 - ETA: 1:21 - loss: 1.2276 - accuracy: 0.55 - ETA: 1:21 - loss: 1.2267 - accuracy: 0.55 - ETA: 1:21 - loss: 1.2237 - accuracy: 0.55 - ETA: 1:20 - loss: 1.2247 - accuracy: 0.55 - ETA: 1:20 - loss: 1.2238 - accuracy: 0.56 - ETA: 1:19 - loss: 1.2194 - accuracy: 0.56 - ETA: 1:19 - loss: 1.2222 - accuracy: 0.56 - ETA: 1:19 - loss: 1.2200 - accuracy: 0.56 - ETA: 1:18 - loss: 1.2194 - accuracy: 0.56 - ETA: 1:18 - loss: 1.2188 - accuracy: 0.56 - ETA: 1:17 - loss: 1.2218 - accuracy: 0.55 - ETA: 1:17 - loss: 1.2243 - accuracy: 0.56 - ETA: 1:17 - loss: 1.2271 - accuracy: 0.55 - ETA: 1:17 - loss: 1.2259 - accuracy: 0.56 - ETA: 1:16 - loss: 1.2269 - accuracy: 0.56 - ETA: 1:16 - loss: 1.2233 - accuracy: 0.56 - ETA: 1:15 - loss: 1.2267 - accuracy: 0.56 - ETA: 1:15 - loss: 1.2279 - accuracy: 0.55 - ETA: 1:15 - loss: 1.2272 - accuracy: 0.55 - ETA: 1:14 - loss: 1.2257 - accuracy: 0.56 - ETA: 1:14 - loss: 1.2260 - accuracy: 0.56 - ETA: 1:14 - loss: 1.2257 - accuracy: 0.56 - ETA: 1:13 - loss: 1.2252 - accuracy: 0.56 - ETA: 1:13 - loss: 1.2225 - accuracy: 0.56 - ETA: 1:13 - loss: 1.2242 - accuracy: 0.56 - ETA: 1:12 - loss: 1.2258 - accuracy: 0.56 - ETA: 1:12 - loss: 1.2238 - accuracy: 0.56 - ETA: 1:12 - loss: 1.2227 - accuracy: 0.56 - ETA: 1:11 - loss: 1.2233 - accuracy: 0.56 - ETA: 1:11 - loss: 1.2233 - accuracy: 0.56 - ETA: 1:10 - loss: 1.2220 - accuracy: 0.56 - ETA: 1:10 - loss: 1.2229 - accuracy: 0.56 - ETA: 1:10 - loss: 1.2245 - accuracy: 0.56 - ETA: 1:09 - loss: 1.2265 - accuracy: 0.56 - ETA: 1:09 - loss: 1.2274 - accuracy: 0.56 - ETA: 1:09 - loss: 1.2274 - accuracy: 0.56 - ETA: 1:08 - loss: 1.2280 - accuracy: 0.56 - ETA: 1:08 - loss: 1.2278 - accuracy: 0.56 - ETA: 1:08 - loss: 1.2278 - accuracy: 0.56 - ETA: 1:08 - loss: 1.2267 - accuracy: 0.56 - ETA: 1:07 - loss: 1.2259 - accuracy: 0.56 - ETA: 1:07 - loss: 1.2243 - accuracy: 0.56 - ETA: 1:07 - loss: 1.2228 - accuracy: 0.56 - ETA: 1:06 - loss: 1.2216 - accuracy: 0.56 - ETA: 1:06 - loss: 1.2190 - accuracy: 0.56 - ETA: 1:06 - loss: 1.2188 - accuracy: 0.56 - ETA: 1:06 - loss: 1.2220 - accuracy: 0.56 - ETA: 1:05 - loss: 1.2205 - accuracy: 0.56 - ETA: 1:05 - loss: 1.2219 - accuracy: 0.56 - ETA: 1:05 - loss: 1.2201 - accuracy: 0.56 - ETA: 1:04 - loss: 1.2196 - accuracy: 0.56 - ETA: 1:04 - loss: 1.2188 - accuracy: 0.56 - ETA: 1:04 - loss: 1.2174 - accuracy: 0.56 - ETA: 1:03 - loss: 1.2156 - accuracy: 0.57 - ETA: 1:03 - loss: 1.2160 - accuracy: 0.57 - ETA: 1:03 - loss: 1.2160 - accuracy: 0.56 - ETA: 1:02 - loss: 1.2167 - accuracy: 0.56 - ETA: 1:02 - loss: 1.2151 - accuracy: 0.57 - ETA: 1:02 - loss: 1.2147 - accuracy: 0.57 - ETA: 1:01 - loss: 1.2136 - accuracy: 0.57 - ETA: 1:01 - loss: 1.2152 - accuracy: 0.56 - ETA: 1:01 - loss: 1.2153 - accuracy: 0.56 - ETA: 1:00 - loss: 1.2149 - accuracy: 0.57 - ETA: 1:00 - loss: 1.2155 - accuracy: 0.57 - ETA: 1:00 - loss: 1.2150 - accuracy: 0.57 - ETA: 59s - loss: 1.2152 - accuracy: 0.5702 - ETA: 59s - loss: 1.2159 - accuracy: 0.570 - ETA: 58s - loss: 1.2172 - accuracy: 0.570 - ETA: 58s - loss: 1.2177 - accuracy: 0.570 - ETA: 58s - loss: 1.2177 - accuracy: 0.569 - ETA: 57s - loss: 1.2168 - accuracy: 0.570 - ETA: 57s - loss: 1.2181 - accuracy: 0.570 - ETA: 57s - loss: 1.2173 - accuracy: 0.570 - ETA: 56s - loss: 1.2193 - accuracy: 0.570 - ETA: 56s - loss: 1.2213 - accuracy: 0.569 - ETA: 56s - loss: 1.2208 - accuracy: 0.569 - ETA: 55s - loss: 1.2211 - accuracy: 0.569 - ETA: 55s - loss: 1.2205 - accuracy: 0.569 - ETA: 55s - loss: 1.2208 - accuracy: 0.569 - ETA: 54s - loss: 1.2198 - accuracy: 0.570 - ETA: 54s - loss: 1.2188 - accuracy: 0.570 - ETA: 54s - loss: 1.2194 - accuracy: 0.570 - ETA: 53s - loss: 1.2181 - accuracy: 0.570 - ETA: 53s - loss: 1.2185 - accuracy: 0.570 - ETA: 53s - loss: 1.2186 - accuracy: 0.570 - ETA: 52s - loss: 1.2190 - accuracy: 0.569 - ETA: 52s - loss: 1.2228 - accuracy: 0.568 - ETA: 52s - loss: 1.2219 - accuracy: 0.568 - ETA: 51s - loss: 1.2210 - accuracy: 0.569 - ETA: 51s - loss: 1.2214 - accuracy: 0.569 - ETA: 51s - loss: 1.2219 - accuracy: 0.569 - ETA: 51s - loss: 1.2215 - accuracy: 0.569 - ETA: 50s - loss: 1.2210 - accuracy: 0.569 - ETA: 50s - loss: 1.2196 - accuracy: 0.570 - ETA: 50s - loss: 1.2208 - accuracy: 0.569 - ETA: 49s - loss: 1.2204 - accuracy: 0.569 - ETA: 49s - loss: 1.2209 - accuracy: 0.569 - ETA: 49s - loss: 1.2202 - accuracy: 0.569 - ETA: 48s - loss: 1.2204 - accuracy: 0.569 - ETA: 48s - loss: 1.2214 - accuracy: 0.569 - ETA: 48s - loss: 1.2221 - accuracy: 0.568 - ETA: 47s - loss: 1.2214 - accuracy: 0.569 - ETA: 47s - loss: 1.2214 - accuracy: 0.568 - ETA: 47s - loss: 1.2201 - accuracy: 0.569 - ETA: 46s - loss: 1.2199 - accuracy: 0.569 - ETA: 46s - loss: 1.2196 - accuracy: 0.569 - ETA: 46s - loss: 1.2182 - accuracy: 0.569 - ETA: 45s - loss: 1.2178 - accuracy: 0.570 - ETA: 45s - loss: 1.2171 - accuracy: 0.570 - ETA: 45s - loss: 1.2184 - accuracy: 0.570 - ETA: 44s - loss: 1.2179 - accuracy: 0.570 - ETA: 44s - loss: 1.2179 - accuracy: 0.570 - ETA: 44s - loss: 1.2182 - accuracy: 0.570 - ETA: 43s - loss: 1.2183 - accuracy: 0.570 - ETA: 43s - loss: 1.2177 - accuracy: 0.570 - ETA: 43s - loss: 1.2180 - accuracy: 0.570 - ETA: 42s - loss: 1.2180 - accuracy: 0.570 - ETA: 42s - loss: 1.2166 - accuracy: 0.571 - ETA: 42s - loss: 1.2164 - accuracy: 0.571 - ETA: 41s - loss: 1.2164 - accuracy: 0.571 - ETA: 41s - loss: 1.2171 - accuracy: 0.571 - ETA: 41s - loss: 1.2168 - accuracy: 0.571 - ETA: 40s - loss: 1.2155 - accuracy: 0.571 - ETA: 40s - loss: 1.2163 - accuracy: 0.571 - ETA: 40s - loss: 1.2161 - accuracy: 0.571 - ETA: 39s - loss: 1.2166 - accuracy: 0.571 - ETA: 39s - loss: 1.2158 - accuracy: 0.571 - ETA: 39s - loss: 1.2172 - accuracy: 0.570 - ETA: 38s - loss: 1.2165 - accuracy: 0.571 - ETA: 38s - loss: 1.2166 - accuracy: 0.571 - ETA: 38s - loss: 1.2153 - accuracy: 0.571 - ETA: 37s - loss: 1.2144 - accuracy: 0.571 - ETA: 37s - loss: 1.2143 - accuracy: 0.571 - ETA: 37s - loss: 1.2130 - accuracy: 0.572 - ETA: 36s - loss: 1.2112 - accuracy: 0.572 - ETA: 36s - loss: 1.2109 - accuracy: 0.573 - ETA: 36s - loss: 1.2110 - accuracy: 0.573 - ETA: 35s - loss: 1.2110 - accuracy: 0.573 - ETA: 35s - loss: 1.2110 - accuracy: 0.573 - ETA: 35s - loss: 1.2100 - accuracy: 0.573 - ETA: 34s - loss: 1.2096 - accuracy: 0.573 - ETA: 34s - loss: 1.2091 - accuracy: 0.573 - ETA: 34s - loss: 1.2083 - accuracy: 0.574 - ETA: 33s - loss: 1.2076 - accuracy: 0.574 - ETA: 33s - loss: 1.2068 - accuracy: 0.575 - ETA: 33s - loss: 1.2062 - accuracy: 0.575 - ETA: 32s - loss: 1.2063 - accuracy: 0.575 - ETA: 32s - loss: 1.2055 - accuracy: 0.575 - ETA: 32s - loss: 1.2047 - accuracy: 0.575 - ETA: 31s - loss: 1.2049 - accuracy: 0.575 - ETA: 31s - loss: 1.2045 - accuracy: 0.576 - ETA: 31s - loss: 1.2049 - accuracy: 0.576 - ETA: 30s - loss: 1.2053 - accuracy: 0.576 - ETA: 30s - loss: 1.2049 - accuracy: 0.575 - ETA: 30s - loss: 1.2057 - accuracy: 0.575 - ETA: 29s - loss: 1.2048 - accuracy: 0.575 - ETA: 29s - loss: 1.2042 - accuracy: 0.576 - ETA: 29s - loss: 1.2043 - accuracy: 0.576 - ETA: 28s - loss: 1.2038 - accuracy: 0.5763"
     ]
    },
    {
     "name": "stdout",
     "output_type": "stream",
     "text": [
      "35000/35000 [==============================] - ETA: 28s - loss: 1.2038 - accuracy: 0.576 - ETA: 28s - loss: 1.2041 - accuracy: 0.576 - ETA: 27s - loss: 1.2038 - accuracy: 0.576 - ETA: 27s - loss: 1.2041 - accuracy: 0.576 - ETA: 27s - loss: 1.2037 - accuracy: 0.576 - ETA: 26s - loss: 1.2028 - accuracy: 0.577 - ETA: 26s - loss: 1.2018 - accuracy: 0.577 - ETA: 26s - loss: 1.2019 - accuracy: 0.577 - ETA: 25s - loss: 1.2026 - accuracy: 0.577 - ETA: 25s - loss: 1.2025 - accuracy: 0.577 - ETA: 25s - loss: 1.2024 - accuracy: 0.577 - ETA: 24s - loss: 1.2020 - accuracy: 0.577 - ETA: 24s - loss: 1.2027 - accuracy: 0.577 - ETA: 24s - loss: 1.2024 - accuracy: 0.577 - ETA: 23s - loss: 1.2019 - accuracy: 0.577 - ETA: 23s - loss: 1.2016 - accuracy: 0.577 - ETA: 23s - loss: 1.2018 - accuracy: 0.577 - ETA: 22s - loss: 1.2017 - accuracy: 0.577 - ETA: 22s - loss: 1.2022 - accuracy: 0.576 - ETA: 22s - loss: 1.2025 - accuracy: 0.576 - ETA: 21s - loss: 1.2025 - accuracy: 0.576 - ETA: 21s - loss: 1.2023 - accuracy: 0.576 - ETA: 21s - loss: 1.2021 - accuracy: 0.576 - ETA: 20s - loss: 1.2022 - accuracy: 0.576 - ETA: 20s - loss: 1.2023 - accuracy: 0.576 - ETA: 20s - loss: 1.2023 - accuracy: 0.576 - ETA: 19s - loss: 1.2022 - accuracy: 0.576 - ETA: 19s - loss: 1.2031 - accuracy: 0.576 - ETA: 19s - loss: 1.2031 - accuracy: 0.576 - ETA: 19s - loss: 1.2037 - accuracy: 0.575 - ETA: 18s - loss: 1.2031 - accuracy: 0.575 - ETA: 18s - loss: 1.2030 - accuracy: 0.575 - ETA: 18s - loss: 1.2023 - accuracy: 0.575 - ETA: 17s - loss: 1.2020 - accuracy: 0.576 - ETA: 17s - loss: 1.2015 - accuracy: 0.576 - ETA: 17s - loss: 1.2013 - accuracy: 0.575 - ETA: 16s - loss: 1.2007 - accuracy: 0.576 - ETA: 16s - loss: 1.2005 - accuracy: 0.576 - ETA: 16s - loss: 1.2005 - accuracy: 0.576 - ETA: 15s - loss: 1.2005 - accuracy: 0.576 - ETA: 15s - loss: 1.2002 - accuracy: 0.576 - ETA: 15s - loss: 1.2004 - accuracy: 0.575 - ETA: 14s - loss: 1.2006 - accuracy: 0.576 - ETA: 14s - loss: 1.1996 - accuracy: 0.576 - ETA: 14s - loss: 1.1996 - accuracy: 0.576 - ETA: 13s - loss: 1.1996 - accuracy: 0.576 - ETA: 13s - loss: 1.1989 - accuracy: 0.576 - ETA: 13s - loss: 1.1981 - accuracy: 0.576 - ETA: 12s - loss: 1.1979 - accuracy: 0.576 - ETA: 12s - loss: 1.1982 - accuracy: 0.576 - ETA: 12s - loss: 1.1974 - accuracy: 0.576 - ETA: 11s - loss: 1.1974 - accuracy: 0.576 - ETA: 11s - loss: 1.1972 - accuracy: 0.577 - ETA: 11s - loss: 1.1970 - accuracy: 0.577 - ETA: 10s - loss: 1.1970 - accuracy: 0.577 - ETA: 10s - loss: 1.1965 - accuracy: 0.577 - ETA: 10s - loss: 1.1961 - accuracy: 0.577 - ETA: 9s - loss: 1.1956 - accuracy: 0.577 - ETA: 9s - loss: 1.1955 - accuracy: 0.57 - ETA: 9s - loss: 1.1954 - accuracy: 0.57 - ETA: 8s - loss: 1.1942 - accuracy: 0.57 - ETA: 8s - loss: 1.1948 - accuracy: 0.57 - ETA: 8s - loss: 1.1946 - accuracy: 0.57 - ETA: 7s - loss: 1.1944 - accuracy: 0.57 - ETA: 7s - loss: 1.1942 - accuracy: 0.57 - ETA: 7s - loss: 1.1943 - accuracy: 0.57 - ETA: 6s - loss: 1.1945 - accuracy: 0.57 - ETA: 6s - loss: 1.1937 - accuracy: 0.57 - ETA: 6s - loss: 1.1928 - accuracy: 0.57 - ETA: 5s - loss: 1.1933 - accuracy: 0.57 - ETA: 5s - loss: 1.1937 - accuracy: 0.57 - ETA: 5s - loss: 1.1937 - accuracy: 0.57 - ETA: 4s - loss: 1.1925 - accuracy: 0.57 - ETA: 4s - loss: 1.1925 - accuracy: 0.57 - ETA: 4s - loss: 1.1920 - accuracy: 0.57 - ETA: 3s - loss: 1.1915 - accuracy: 0.57 - ETA: 3s - loss: 1.1913 - accuracy: 0.57 - ETA: 3s - loss: 1.1906 - accuracy: 0.58 - ETA: 2s - loss: 1.1909 - accuracy: 0.57 - ETA: 2s - loss: 1.1904 - accuracy: 0.58 - ETA: 2s - loss: 1.1898 - accuracy: 0.58 - ETA: 1s - loss: 1.1895 - accuracy: 0.58 - ETA: 1s - loss: 1.1893 - accuracy: 0.58 - ETA: 1s - loss: 1.1894 - accuracy: 0.58 - ETA: 0s - loss: 1.1892 - accuracy: 0.58 - ETA: 0s - loss: 1.1894 - accuracy: 0.58 - ETA: 0s - loss: 1.1888 - accuracy: 0.58 - 100s 3ms/sample - loss: 1.1889 - accuracy: 0.5804 - val_loss: 1.0662 - val_accuracy: 0.6202\n"
     ]
    },
    {
     "data": {
      "text/plain": [
       "<tensorflow.python.keras.callbacks.History at 0x1d4794b7c88>"
      ]
     },
     "execution_count": 53,
     "metadata": {},
     "output_type": "execute_result"
    }
   ],
   "source": [
    "model.fit(X_train, y_train, batch_size=128, epochs=3, validation_split=0.3)"
   ]
  },
  {
   "cell_type": "code",
   "execution_count": 54,
   "metadata": {},
   "outputs": [
    {
     "name": "stdout",
     "output_type": "stream",
     "text": [
      "INFO:tensorflow:Assets written to: ImageClass\\assets\n"
     ]
    }
   ],
   "source": [
    "model.save('ImageClass')"
   ]
  },
  {
   "cell_type": "code",
   "execution_count": 55,
   "metadata": {},
   "outputs": [
    {
     "data": {
      "text/plain": [
       "<matplotlib.axes._subplots.AxesSubplot at 0x1d400c570c8>"
      ]
     },
     "execution_count": 55,
     "metadata": {},
     "output_type": "execute_result"
    },
    {
     "data": {
      "image/png": "[encoded data removed]",
      "text/plain": [
       "<Figure size 432x288 with 1 Axes>"
      ]
     },
     "metadata": {
      "image/png": {
       "height": 249,
       "width": 383
      },
      "needs_background": "light"
     },
     "output_type": "display_data"
    }
   ],
   "source": [
    "import pandas as pd\n",
    "losses = pd.DataFrame(model.history.history)\n",
    "losses.plot()"
   ]
  },
  {
   "cell_type": "code",
   "execution_count": 56,
   "metadata": {},
   "outputs": [],
   "source": [
    "import tensorflow\n",
    "new_model = tensorflow.keras.models.load_model('ImageClass')"
   ]
  },
  {
   "cell_type": "code",
   "execution_count": 57,
   "metadata": {},
   "outputs": [],
   "source": [
    "#prediction"
   ]
  },
  {
   "cell_type": "code",
   "execution_count": 58,
   "metadata": {},
   "outputs": [],
   "source": [
    "preds = new_model.predict(X_test)"
   ]
  },
  {
   "cell_type": "code",
   "execution_count": 59,
   "metadata": {},
   "outputs": [
    {
     "data": {
      "text/plain": [
       "b'ship'"
      ]
     },
     "execution_count": 59,
     "metadata": {},
     "output_type": "execute_result"
    }
   ],
   "source": [
    "batch_meta[b\"label_names\"][(np.argmax(preds[1]))]"
   ]
  },
  {
   "cell_type": "code",
   "execution_count": 61,
   "metadata": {},
   "outputs": [
    {
     "data": {
      "image/png": "[encoded data removed]",
      "text/plain": [
       "<Figure size 432x288 with 1 Axes>"
      ]
     },
     "metadata": {
      "image/png": {
       "height": 248,
       "width": 251
      },
      "needs_background": "light"
     },
     "output_type": "display_data"
    }
   ],
   "source": [
    "plt.imshow(X_test[1],cmap=plt.cm.binary)\n",
    "plt.show()"
   ]
  },
  {
   "cell_type": "code",
   "execution_count": 62,
   "metadata": {},
   "outputs": [
    {
     "data": {
      "text/plain": [
       "b'airplane'"
      ]
     },
     "execution_count": 62,
     "metadata": {},
     "output_type": "execute_result"
    }
   ],
   "source": [
    "batch_meta[b\"label_names\"][(np.argmax(preds[10]))]"
   ]
  },
  {
   "cell_type": "code",
   "execution_count": 63,
   "metadata": {},
   "outputs": [
    {
     "data": {
      "image/png": "[encoded data removed]",
      "text/plain": [
       "<Figure size 432x288 with 1 Axes>"
      ]
     },
     "metadata": {
      "image/png": {
       "height": 248,
       "width": 251
      },
      "needs_background": "light"
     },
     "output_type": "display_data"
    }
   ],
   "source": [
    "plt.imshow(X_test[10],cmap=plt.cm.binary)\n",
    "plt.show()"
   ]
  },
  {
   "cell_type": "code",
   "execution_count": null,
   "metadata": {},
   "outputs": [],
   "source": []
  },
  {
   "cell_type": "code",
   "execution_count": null,
   "metadata": {},
   "outputs": [],
   "source": []
  },
  {
   "cell_type": "markdown",
   "metadata": {},
   "source": [
    "# The End!"
   ]
  }
 ],
 "metadata": {
  "kernelspec": {
   "display_name": "Python 3",
   "language": "python",
   "name": "python3"
  },
  "language_info": {
   "codemirror_mode": {
    "name": "ipython",
    "version": 3
   },
   "file_extension": ".py",
   "mimetype": "text/x-python",
   "name": "python",
   "nbconvert_exporter": "python",
   "pygments_lexer": "ipython3",
   "version": "3.7.4"
  }
 },
 "nbformat": 4,
 "nbformat_minor": 2
}
